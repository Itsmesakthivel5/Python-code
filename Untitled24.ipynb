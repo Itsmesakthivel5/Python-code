{
  "nbformat": 4,
  "nbformat_minor": 0,
  "metadata": {
    "colab": {
      "provenance": [],
      "authorship_tag": "ABX9TyNPLemeDmlIjGYc9fVTwDYc",
      "include_colab_link": true
    },
    "kernelspec": {
      "name": "python3",
      "display_name": "Python 3"
    },
    "language_info": {
      "name": "python"
    }
  },
  "cells": [
    {
      "cell_type": "markdown",
      "metadata": {
        "id": "view-in-github",
        "colab_type": "text"
      },
      "source": [
        "<a href=\"https://colab.research.google.com/github/Itsmesakthivel5/Python-code/blob/main/Untitled24.ipynb\" target=\"_parent\"><img src=\"https://colab.research.google.com/assets/colab-badge.svg\" alt=\"Open In Colab\"/></a>"
      ]
    },
    {
      "cell_type": "code",
      "execution_count": 1,
      "metadata": {
        "colab": {
          "base_uri": "https://localhost:8080/"
        },
        "id": "jH1d_R_LlZ1c",
        "outputId": "201bfaa4-d78c-4ff6-a928-657693fd6c26"
      },
      "outputs": [
        {
          "output_type": "stream",
          "name": "stdout",
          "text": [
            "Generated Password: N2gfUA$T=;+l\n"
          ]
        }
      ],
      "source": [
        "import random\n",
        "import string\n",
        "\n",
        "def generate_password(length=12):\n",
        "    if length < 4:\n",
        "        raise ValueError(\"Password length should be at least 4 characters.\")\n",
        "\n",
        "    # Ensure the password has at least one of each character type\n",
        "    all_chars = string.ascii_letters + string.digits + string.punctuation\n",
        "    password = [\n",
        "        random.choice(string.ascii_uppercase),\n",
        "        random.choice(string.ascii_lowercase),\n",
        "        random.choice(string.digits),\n",
        "        random.choice(string.punctuation)\n",
        "    ]\n",
        "\n",
        "    # Fill the rest of the password length\n",
        "    password += random.choices(all_chars, k=length - 4)\n",
        "\n",
        "    # Shuffle the characters\n",
        "    random.shuffle(password)\n",
        "    return ''.join(password)\n",
        "\n",
        "# Example usage\n",
        "print(\"Generated Password:\", generate_password(12))"
      ]
    }
  ]
}